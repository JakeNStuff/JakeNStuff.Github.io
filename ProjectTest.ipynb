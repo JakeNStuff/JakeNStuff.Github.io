{
  "metadata": {
    "language_info": {
      "codemirror_mode": {
        "name": "python",
        "version": 3
      },
      "file_extension": ".py",
      "mimetype": "text/x-python",
      "name": "python",
      "nbconvert_exporter": "python",
      "pygments_lexer": "ipython3",
      "version": "3.8"
    },
    "kernelspec": {
      "name": "python",
      "display_name": "Pyolite",
      "language": "python"
    }
  },
  "nbformat_minor": 4,
  "nbformat": 4,
  "cells": [
    {
      "cell_type": "code",
      "source": "import PyMongoModule as driver\nshelter = driver.AnimalShelter(\"aacuser\", \"aacuser\")\n\n#This houses all the types of potential data, with a string in most cases declaring it is for testing purposes.\ntestData = {\n    '1': 4,\n    'age_upon_outcome': '10 years Test',\n    'animal_id': 'TEST',\n    'animal_type': 'Type Test',\n    'breed': 'Breed Test',\n    'color': 'Color Test',\n    'date_of_birth': 'DOB Test',\n    'datetime': '2022-04-03 04:44:44 Test',\n    'monthyear': '2022-04-03 04:44:44 Test',\n    'name': 'NameTest',\n    'outcome_subtype': 'SubType Test',\n    'sex_upon_outcome': 'Outcome Test',\n    'location_lat': 25.55,\n    'location_long': -25.55,\n    'age_upon_outcome_in_weeks': '323.433 Test'    \n}\n\nsampleTarget = {'animal_type': 'Type Test'}\nsampleUpdate = {'$set': {'name': '22'}}\nsampleUpdateTwo = {'$set': {\n    'name': '21',\n    'animal_type': 'Dog'\n}}\n\nsampleDelete = {\n    'name': '21'\n}\n\nshelter.create(testData)\nshelter.read(sampleTarget)\nshelter.update(sampleTarget, sampleUpdate, 1)\nshelter.update(sampleTarget, sampleUpdateTwo, 2)\nshelter.deleteData(sampleDelete, 1)",
      "metadata": {
        "trusted": true
      },
      "execution_count": 1,
      "outputs": [
        {
          "ename": "<class 'ModuleNotFoundError'>",
          "evalue": "No module named 'PyMongoModule'",
          "traceback": [
            "\u001b[0;31m---------------------------------------------------------------------------\u001b[0m",
            "\u001b[0;31mModuleNotFoundError\u001b[0m                       Traceback (most recent call last)",
            "Input \u001b[0;32mIn [1]\u001b[0m, in \u001b[0;36m<cell line: 1>\u001b[0;34m()\u001b[0m\n\u001b[0;32m----> 1\u001b[0m \u001b[38;5;28;01mimport\u001b[39;00m \u001b[38;5;21;01mPyMongoModule\u001b[39;00m \u001b[38;5;28;01mas\u001b[39;00m \u001b[38;5;21;01mdriver\u001b[39;00m\n\u001b[1;32m      2\u001b[0m shelter \u001b[38;5;241m=\u001b[39m driver\u001b[38;5;241m.\u001b[39mAnimalShelter(\u001b[38;5;124m\"\u001b[39m\u001b[38;5;124maacuser\u001b[39m\u001b[38;5;124m\"\u001b[39m, \u001b[38;5;124m\"\u001b[39m\u001b[38;5;124maacuser\u001b[39m\u001b[38;5;124m\"\u001b[39m)\n\u001b[1;32m      4\u001b[0m testData \u001b[38;5;241m=\u001b[39m {\n\u001b[1;32m      5\u001b[0m     \u001b[38;5;124m'\u001b[39m\u001b[38;5;124m1\u001b[39m\u001b[38;5;124m'\u001b[39m: \u001b[38;5;241m4\u001b[39m,\n\u001b[1;32m      6\u001b[0m     \u001b[38;5;124m'\u001b[39m\u001b[38;5;124mage_upon_outcome\u001b[39m\u001b[38;5;124m'\u001b[39m: \u001b[38;5;124m'\u001b[39m\u001b[38;5;124m10 years\u001b[39m\u001b[38;5;124m'\u001b[39m,\n\u001b[0;32m   (...)\u001b[0m\n\u001b[1;32m     19\u001b[0m     \u001b[38;5;124m'\u001b[39m\u001b[38;5;124mage_upon_outcome_in_weeks\u001b[39m\u001b[38;5;124m'\u001b[39m: \u001b[38;5;124m'\u001b[39m\u001b[38;5;124m323.433\u001b[39m\u001b[38;5;124m'\u001b[39m    \n\u001b[1;32m     20\u001b[0m }\n",
            "\u001b[0;31mModuleNotFoundError\u001b[0m: No module named 'PyMongoModule'"
          ],
          "output_type": "error"
        }
      ]
    },
    {
      "cell_type": "code",
      "source": "#Thi",
      "metadata": {},
      "execution_count": null,
      "outputs": []
    }
  ]
}